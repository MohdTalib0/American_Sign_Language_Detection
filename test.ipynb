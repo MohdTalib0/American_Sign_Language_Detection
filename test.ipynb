{
 "cells": [
  {
   "cell_type": "code",
   "execution_count": 1,
   "id": "ae84333a",
   "metadata": {},
   "outputs": [],
   "source": [
    "#Importing necessary libraries\n",
    "import tensorflow as tf\n",
    "from tensorflow import keras\n",
    "from tensorflow.keras.models import load_model\n",
    "import cv2\n",
    "from PIL import Image\n",
    "from tensorflow.keras.preprocessing import image\n",
    "import numpy as np\n",
    "from skimage.transform import resize,pyramid_reduce"
   ]
  },
  {
   "cell_type": "code",
   "execution_count": 2,
   "id": "749144e6",
   "metadata": {},
   "outputs": [],
   "source": [
    "model1=load_model(r'ASL_CNN_MODEL1.h5') #Loading the model\n",
    "#model._make_predict_function()  # Necessary for multi-threaded environments like Flask"
   ]
  },
  {
   "cell_type": "code",
   "execution_count": 3,
   "id": "8ace04f9",
   "metadata": {},
   "outputs": [],
   "source": [
    "class_names = {\n",
    "    0: \"A\",\n",
    "    1: \"B\",\n",
    "    2: \"C\",\n",
    "    3: \"D\",\n",
    "    4: \"E\",\n",
    "    5: \"F\",\n",
    "    6: \"G\",\n",
    "    7: \"H\",\n",
    "    8: \"I\",\n",
    "    9: \"J\",\n",
    "    10: \"K\",\n",
    "    11: \"L\",\n",
    "    12: \"M\",\n",
    "    13: \"N\",\n",
    "    14: \"O\",\n",
    "    15: \"P\",\n",
    "    16: \"Q\",\n",
    "    17: \"R\",\n",
    "    18: \"S\",\n",
    "    19: \"T\",\n",
    "    20: \"U\",\n",
    "    21: \"V\",\n",
    "    22: \"W\",\n",
    "    23: \"X\",\n",
    "    24: \"Y\",\n",
    "    25: \"Z\",\n",
    "    26: \"background\"\n",
    "}"
   ]
  },
  {
   "cell_type": "code",
   "execution_count": 94,
   "id": "50e9bfc8",
   "metadata": {},
   "outputs": [],
   "source": [
    "import cv2\n",
    "import numpy as np\n",
    "from PIL import Image\n",
    "\n",
    "# Load and resize the image\n",
    "def pred_test(img_path):\n",
    "    image = Image.open(img_path)\n",
    "    image = image.resize((200, 200))\n",
    "    image = np.array(image)\n",
    "    if image.ndim == 2:\n",
    "        # Grayscale image\n",
    "        gray_image = image\n",
    "        print(\"Image is grayscale\")\n",
    "    elif image.ndim == 3:\n",
    "        # RGB or BGR image\n",
    "        if image.shape[2] == 3:\n",
    "                    # RGB or BGR image\n",
    "            rgb_image = cv2.cvtColor(image, cv2.COLOR_RGB2BGR)  # Convert to BGR\n",
    "            gray_image = cv2.cvtColor(rgb_image, cv2.COLOR_BGR2GRAY)\n",
    "        else:\n",
    "            rgb_image = cv2.cvtColor(image, cv2.COLOR_RGB2BGR)  # Convert to BGR\n",
    "            gray_image = cv2.cvtColor(rgb_image, cv2.COLOR_BGR2GRAY)\n",
    "    else:\n",
    "        print(\"Image has an unsupported number of dimensions\")\n",
    "        return\n",
    "    gray_image = np.expand_dims(gray_image, axis=0)\n",
    "    prediction = model1.predict(gray_image)\n",
    "    predicted_class = np.argmax(prediction)\n",
    "\n",
    "\n",
    "    # Convert the predicted class to the corresponding alphabet label\n",
    "    if predicted_class == 26:\n",
    "        predicted_label = 'background'\n",
    "    else:\n",
    "        predicted_label = class_names[predicted_class]\n",
    "    print(predicted_class)\n",
    "    print(\"Predicted Label:\", predicted_label)\n",
    "    return predicted_label"
   ]
  },
  {
   "cell_type": "code",
   "execution_count": 95,
   "id": "452209f8",
   "metadata": {},
   "outputs": [
    {
     "name": "stdout",
     "output_type": "stream",
     "text": [
      "Image is grayscale\n",
      "1/1 [==============================] - 0s 126ms/step\n",
      "24\n",
      "Predicted Label: Y\n"
     ]
    },
    {
     "data": {
      "text/plain": [
       "'Y'"
      ]
     },
     "execution_count": 95,
     "metadata": {},
     "output_type": "execute_result"
    }
   ],
   "source": [
    "pred_test(\"C:/Users/hp/Downloads/Sign_Language_Classification/signlanguage/signlanguage/y_8.png\")"
   ]
  },
  {
   "cell_type": "code",
   "execution_count": 70,
   "id": "79947f2c",
   "metadata": {},
   "outputs": [
    {
     "name": "stdout",
     "output_type": "stream",
     "text": [
      "Image is grayscale\n",
      "1/1 [==============================] - 0s 141ms/step\n",
      "16\n",
      "Predicted Label: Q\n"
     ]
    },
    {
     "data": {
      "text/plain": [
       "'Q'"
      ]
     },
     "execution_count": 70,
     "metadata": {},
     "output_type": "execute_result"
    }
   ],
   "source": [
    "pred_test(\"C:/Users/hp/Downloads/Sign_Language_Classification/signlanguage/signlanguage/q_95.png\")"
   ]
  },
  {
   "cell_type": "code",
   "execution_count": 71,
   "id": "835cb6c8",
   "metadata": {},
   "outputs": [
    {
     "name": "stdout",
     "output_type": "stream",
     "text": [
      "Image is grayscale\n",
      "1/1 [==============================] - 0s 141ms/step\n",
      "6\n",
      "Predicted Label: G\n"
     ]
    },
    {
     "data": {
      "text/plain": [
       "'G'"
      ]
     },
     "execution_count": 71,
     "metadata": {},
     "output_type": "execute_result"
    }
   ],
   "source": [
    "pred_test(\"C:/Users/hp/Downloads/Sign_Language_Classification/signlanguage/signlanguage/p_95.png\")"
   ]
  },
  {
   "cell_type": "code",
   "execution_count": 72,
   "id": "59d6b854",
   "metadata": {},
   "outputs": [
    {
     "name": "stdout",
     "output_type": "stream",
     "text": [
      "Image is grayscale\n",
      "1/1 [==============================] - 0s 142ms/step\n",
      "0\n",
      "Predicted Label: A\n"
     ]
    },
    {
     "data": {
      "text/plain": [
       "'A'"
      ]
     },
     "execution_count": 72,
     "metadata": {},
     "output_type": "execute_result"
    }
   ],
   "source": [
    "pred_test(\"C:/Users/hp/Downloads/Sign_Language_Classification/signlanguage/signlanguage/a_15.png\")"
   ]
  },
  {
   "cell_type": "code",
   "execution_count": 96,
   "id": "8d4e83ee",
   "metadata": {},
   "outputs": [
    {
     "name": "stdout",
     "output_type": "stream",
     "text": [
      "1/1 [==============================] - 0s 149ms/step\n",
      "14\n",
      "Predicted Label: O\n"
     ]
    },
    {
     "data": {
      "text/plain": [
       "'O'"
      ]
     },
     "execution_count": 96,
     "metadata": {},
     "output_type": "execute_result"
    }
   ],
   "source": [
    "pred_test(\"C:/Users/hp/Downloads/peace-gdf81bebcf_1280.png\")"
   ]
  },
  {
   "cell_type": "code",
   "execution_count": 97,
   "id": "28d36a47",
   "metadata": {},
   "outputs": [
    {
     "ename": "error",
     "evalue": "OpenCV(4.7.0) d:\\a\\opencv-python\\opencv-python\\opencv\\modules\\imgproc\\src\\color.simd_helpers.hpp:92: error: (-2:Unspecified error) in function '__cdecl cv::impl::`anonymous-namespace'::CvtHelper<struct cv::impl::`anonymous namespace'::Set<3,4,-1>,struct cv::impl::A0xfe6807f1::Set<3,4,-1>,struct cv::impl::A0xfe6807f1::Set<0,2,5>,2>::CvtHelper(const class cv::_InputArray &,const class cv::_OutputArray &,int)'\n> Invalid number of channels in input image:\n>     'VScn::contains(scn)'\n> where\n>     'scn' is 2\n",
     "output_type": "error",
     "traceback": [
      "\u001b[1;31m---------------------------------------------------------------------------\u001b[0m",
      "\u001b[1;31merror\u001b[0m                                     Traceback (most recent call last)",
      "Cell \u001b[1;32mIn[97], line 1\u001b[0m\n\u001b[1;32m----> 1\u001b[0m \u001b[43mpred_test\u001b[49m\u001b[43m(\u001b[49m\u001b[38;5;124;43m\"\u001b[39;49m\u001b[38;5;124;43mC:/Users/hp/Downloads/alphabet-ga541f4ed4_640.png\u001b[39;49m\u001b[38;5;124;43m\"\u001b[39;49m\u001b[43m)\u001b[49m\n",
      "Cell \u001b[1;32mIn[94], line 21\u001b[0m, in \u001b[0;36mpred_test\u001b[1;34m(img_path)\u001b[0m\n\u001b[0;32m     19\u001b[0m         gray_image \u001b[38;5;241m=\u001b[39m cv2\u001b[38;5;241m.\u001b[39mcvtColor(rgb_image, cv2\u001b[38;5;241m.\u001b[39mCOLOR_BGR2GRAY)\n\u001b[0;32m     20\u001b[0m     \u001b[38;5;28;01melse\u001b[39;00m:\n\u001b[1;32m---> 21\u001b[0m         rgb_image \u001b[38;5;241m=\u001b[39m \u001b[43mcv2\u001b[49m\u001b[38;5;241;43m.\u001b[39;49m\u001b[43mcvtColor\u001b[49m\u001b[43m(\u001b[49m\u001b[43mimage\u001b[49m\u001b[43m,\u001b[49m\u001b[43m \u001b[49m\u001b[43mcv2\u001b[49m\u001b[38;5;241;43m.\u001b[39;49m\u001b[43mCOLOR_RGB2BGR\u001b[49m\u001b[43m)\u001b[49m  \u001b[38;5;66;03m# Convert to BGR\u001b[39;00m\n\u001b[0;32m     22\u001b[0m         gray_image \u001b[38;5;241m=\u001b[39m cv2\u001b[38;5;241m.\u001b[39mcvtColor(rgb_image, cv2\u001b[38;5;241m.\u001b[39mCOLOR_BGR2GRAY)\n\u001b[0;32m     23\u001b[0m \u001b[38;5;28;01melse\u001b[39;00m:\n",
      "\u001b[1;31merror\u001b[0m: OpenCV(4.7.0) d:\\a\\opencv-python\\opencv-python\\opencv\\modules\\imgproc\\src\\color.simd_helpers.hpp:92: error: (-2:Unspecified error) in function '__cdecl cv::impl::`anonymous-namespace'::CvtHelper<struct cv::impl::`anonymous namespace'::Set<3,4,-1>,struct cv::impl::A0xfe6807f1::Set<3,4,-1>,struct cv::impl::A0xfe6807f1::Set<0,2,5>,2>::CvtHelper(const class cv::_InputArray &,const class cv::_OutputArray &,int)'\n> Invalid number of channels in input image:\n>     'VScn::contains(scn)'\n> where\n>     'scn' is 2\n"
     ]
    }
   ],
   "source": [
    "pred_test(\"C:/Users/hp/Downloads/alphabet-ga541f4ed4_640.png\")"
   ]
  },
  {
   "cell_type": "code",
   "execution_count": 98,
   "id": "64a92018",
   "metadata": {},
   "outputs": [
    {
     "name": "stdout",
     "output_type": "stream",
     "text": [
      "1/1 [==============================] - 0s 133ms/step\n",
      "14\n",
      "Predicted Label: O\n"
     ]
    },
    {
     "data": {
      "text/plain": [
       "'O'"
      ]
     },
     "execution_count": 98,
     "metadata": {},
     "output_type": "execute_result"
    }
   ],
   "source": [
    "pred_test(\"C:/Users/hp/Downloads/peace-gdf81bebcf_1280.png\")"
   ]
  },
  {
   "cell_type": "code",
   "execution_count": null,
   "id": "32119758",
   "metadata": {},
   "outputs": [],
   "source": []
  }
 ],
 "metadata": {
  "kernelspec": {
   "display_name": "Python 3 (ipykernel)",
   "language": "python",
   "name": "python3"
  },
  "language_info": {
   "codemirror_mode": {
    "name": "ipython",
    "version": 3
   },
   "file_extension": ".py",
   "mimetype": "text/x-python",
   "name": "python",
   "nbconvert_exporter": "python",
   "pygments_lexer": "ipython3",
   "version": "3.10.9"
  }
 },
 "nbformat": 4,
 "nbformat_minor": 5
}
